{
 "cells": [
  {
   "cell_type": "code",
   "execution_count": 3,
   "id": "ea202f4e-65d9-4457-9042-e54454ffda34",
   "metadata": {},
   "outputs": [],
   "source": [
    "import os\n",
    "from datetime import datetime, timedelta\n",
    "\n",
    "import glob "
   ]
  },
  {
   "cell_type": "code",
   "execution_count": 29,
   "id": "a059a0bd-e93f-4999-916b-c7e9298446a1",
   "metadata": {},
   "outputs": [
    {
     "name": "stdout",
     "output_type": "stream",
     "text": [
      "Number of files in dataset 363\n",
      "Missing dates: [datetime.date(1998, 9, 29), datetime.date(1998, 9, 30)]\n",
      "Max consecutive missing days: 2\n"
     ]
    }
   ],
   "source": [
    "def find_max_consecutive_missing(file_paths, offset_date):\n",
    "    # Calculate the date exactly one year later from the offset_date\n",
    "    one_year_later = offset_date.replace(year=offset_date.year + 1)\n",
    "    num_days = (one_year_later - offset_date).days\n",
    "    \n",
    "    expected_dates = [offset_date + timedelta(days=i) for i in range(num_days)]\n",
    "    \n",
    "    missing_dates = []  # List to store missing dates\n",
    "    \n",
    "    for file_path in file_paths:\n",
    "        # Extract date from file path\n",
    "        file_date_str = os.path.splitext(os.path.basename(file_path))[0].split('_')[-1]\n",
    "        file_date = datetime.strptime(file_date_str, \"%Y-%m-%d\").date()\n",
    "        \n",
    "        # Check if the file date is in the expected dates\n",
    "        if file_date in expected_dates:\n",
    "            expected_dates.remove(file_date)  # Remove the found date from expected dates\n",
    "        else:\n",
    "            missing_dates.append(file_date)\n",
    "    \n",
    "    # Add any remaining dates from expected_dates to missing_dates\n",
    "    missing_dates.extend(expected_dates)\n",
    "    \n",
    "    max_consecutive = 0  # To track the maximum consecutive missing dates\n",
    "    current_consecutive = 0  # To track the current consecutive missing dates\n",
    "    \n",
    "    for i in range(1, len(missing_dates)):\n",
    "        if (missing_dates[i] - missing_dates[i - 1]).days == 1:\n",
    "            current_consecutive += 1\n",
    "            max_consecutive = max(max_consecutive, current_consecutive)\n",
    "        else:\n",
    "            current_consecutive = 0\n",
    "    \n",
    "    return missing_dates, max_consecutive + 1  # Adding 1 to represent the length\n",
    "\n",
    "\n",
    "# Example usage\n",
    "# Path, you can do a lot with regex here to select what files to read in to begin with. \n",
    "#    For monthly the pattern is: *-01-* . ranges: *-0[1-3]-* (Jan 1 thru Mar 31) \n",
    "path = \"/home/scratch/ahaberlie/AFWA_TOTPRECIP/HIST/1997-1998/*.nc\"    # Modify me\n",
    "#path = \"/home/scratch/ahaberlie/AFWA_TOTPRECIP/end_of_century_8p5/*/*-07-*.nc\"\n",
    "\n",
    "files = glob.glob(path, recursive=True)\n",
    "files.sort()\n",
    "file_paths = files\n",
    "print(f'Number of files in dataset {len(file_paths)}')\n",
    "\n",
    "offset_date = datetime(1997, 10, 1).date()  # Offset date: October 1, 1997\n",
    "\n",
    "missing_dates, max_consecutive = find_max_consecutive_missing(file_paths, offset_date)\n",
    "print(\"Missing dates:\", missing_dates)\n",
    "print(\"Max consecutive missing days:\", max_consecutive)"
   ]
  },
  {
   "cell_type": "code",
   "execution_count": null,
   "id": "6d3d7e4e-03a0-4b91-810a-490d847afa66",
   "metadata": {},
   "outputs": [],
   "source": []
  }
 ],
 "metadata": {
  "kernelspec": {
   "display_name": "Python [conda env:pyEAE]",
   "language": "python",
   "name": "conda-env-pyEAE-py"
  },
  "language_info": {
   "codemirror_mode": {
    "name": "ipython",
    "version": 3
   },
   "file_extension": ".py",
   "mimetype": "text/x-python",
   "name": "python",
   "nbconvert_exporter": "python",
   "pygments_lexer": "ipython3",
   "version": "3.9.13"
  }
 },
 "nbformat": 4,
 "nbformat_minor": 5
}
